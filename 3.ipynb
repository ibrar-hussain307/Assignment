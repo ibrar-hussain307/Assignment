{
 "cells": [
  {
   "cell_type": "code",
   "execution_count": 8,
   "id": "5a349a2e",
   "metadata": {},
   "outputs": [
    {
     "name": "stdout",
     "output_type": "stream",
     "text": [
      "Current Date and Time is : 2021-12-31 15:03:02.705916\n"
     ]
    }
   ],
   "source": [
    "import datetime \n",
    "    \n",
    "# using now() to get current time \n",
    "current_time = datetime.datetime.now() \n",
    "    \n",
    "# Printing value\n",
    "print (\"Current Date and Time is : \", end = \"\") \n",
    "print (current_time) "
   ]
  },
  {
   "cell_type": "code",
   "execution_count": null,
   "id": "1b20fbe5",
   "metadata": {},
   "outputs": [],
   "source": []
  }
 ],
 "metadata": {
  "kernelspec": {
   "display_name": "Python 3 (ipykernel)",
   "language": "python",
   "name": "python3"
  },
  "language_info": {
   "codemirror_mode": {
    "name": "ipython",
    "version": 3
   },
   "file_extension": ".py",
   "mimetype": "text/x-python",
   "name": "python",
   "nbconvert_exporter": "python",
   "pygments_lexer": "ipython3",
   "version": "3.9.7"
  }
 },
 "nbformat": 4,
 "nbformat_minor": 5
}
