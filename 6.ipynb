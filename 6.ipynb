{
 "cells": [
  {
   "cell_type": "code",
   "execution_count": 14,
   "id": "ed23d2ed",
   "metadata": {},
   "outputs": [
    {
     "name": "stdout",
     "output_type": "stream",
     "text": [
      "Enter your First Number : 1\n",
      "Enter your Second Number : 2\n",
      "Addition is:  3\n"
     ]
    }
   ],
   "source": [
    "x = int(input(\"Enter your First Number : \"))\n",
    "y = int(input(\"Enter your Second Number : \"))\n",
    "z = x+y\n",
    "print (\"Addition is: \",x+y)"
   ]
  },
  {
   "cell_type": "code",
   "execution_count": null,
   "id": "d1ad5e08",
   "metadata": {},
   "outputs": [],
   "source": []
  }
 ],
 "metadata": {
  "kernelspec": {
   "display_name": "Python 3 (ipykernel)",
   "language": "python",
   "name": "python3"
  },
  "language_info": {
   "codemirror_mode": {
    "name": "ipython",
    "version": 3
   },
   "file_extension": ".py",
   "mimetype": "text/x-python",
   "name": "python",
   "nbconvert_exporter": "python",
   "pygments_lexer": "ipython3",
   "version": "3.9.7"
  }
 },
 "nbformat": 4,
 "nbformat_minor": 5
}
